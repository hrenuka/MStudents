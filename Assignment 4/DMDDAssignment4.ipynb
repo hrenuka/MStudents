{
 "cells": [
  {
   "cell_type": "code",
   "execution_count": 1,
   "id": "0bd1c663",
   "metadata": {},
   "outputs": [],
   "source": [
    "import tqdm\n",
    "import snscrape.modules.twitter as tweet\n",
    "import pandas as pd\n",
    "import datetime\n",
    "import re"
   ]
  },
  {
   "cell_type": "code",
   "execution_count": null,
   "id": "e7bd1b42",
   "metadata": {
    "scrolled": true
   },
   "outputs": [],
   "source": [
    "\n",
    "\n",
    "# Get Tweets\n",
    "\n",
    "query1 = \"Northeastern events\"\n",
    "query2 = \"Northeastern oncampusemployment\"\n",
    "query3 = \"Northeastern Co-op Opportunities\"\n",
    "query4 = \"Northeastern University\"\n",
    "\n",
    "querylist = [query1, query2, query3, query4]\n",
    "li = []\n",
    "\n",
    "for i in querylist:\n",
    "    count = 0\n",
    "    for t in tweet.TwitterHashtagScraper(i).get_items():\n",
    "        tweet_map={}\n",
    "        a = vars(t)\n",
    "        #print (a.keys())\n",
    "        #print (a['content']+ \" ====>\"+ a['url'])\n",
    "        tweet_map['TwitterID']=str(a['id'])\n",
    "        tweet_map['TwitterHandle']=a['user']\n",
    "        tweet_map['TwitterText']=a['content']\n",
    "        tweet_map['HashTags']=a['hashtags']\n",
    "        tweet_map['CreatedAt']=a['date']\n",
    "        tweet_map['likes'] = a['likeCount']\n",
    "        tweet_map[\"replies\"] = a['replyCount']\n",
    "        tweet_map['retweet'] = a[\"retweetCount\"]\n",
    "        tweet_map['Query']= i\n",
    "        li.append(tweet_map)\n",
    "\n",
    "        if count==50:\n",
    "            break\n",
    "        count+=1\n",
    "    \n",
    "df = pd.DataFrame(li)\n",
    "df.to_csv(\"D:/Darshana//NEU/Study/DMDD/Project/MStudents/Tweets.csv\",index=False)\n",
    "\n"
   ]
  },
  {
   "cell_type": "code",
   "execution_count": 2,
   "id": "af585474",
   "metadata": {},
   "outputs": [
    {
     "name": "stdout",
     "output_type": "stream",
     "text": [
      "Connection established to:  ('mastersstudents',)\n"
     ]
    }
   ],
   "source": [
    "import mysql.connector\n",
    "conn = mysql.connector.connect(host='localhost',\n",
    "                        database='mastersstudents',\n",
    "                        user='root',\n",
    "                        password='root')\n",
    "\n",
    "cursor = conn.cursor()\n",
    "\n",
    "#Executing an MYSQL function using the execute() method\n",
    "cursor.execute(\"SELECT DATABASE()\")\n",
    "\n",
    "# Fetch a single row using fetchone() method.\n",
    "data = cursor.fetchone()\n",
    "print(\"Connection established to: \",data)\n",
    "cursor = conn.cursor()"
   ]
  },
  {
   "cell_type": "code",
   "execution_count": null,
   "id": "293ba0ce",
   "metadata": {},
   "outputs": [],
   "source": [
    "\n",
    "\n",
    "\n",
    "df = pd.read_csv(\"D:/Darshana//NEU/Study/DMDD/Project/MStudents/Tweets.csv\")\n",
    "\n",
    "def get_user_details(username):\n",
    "    user_detail = {}\n",
    "    user = tweet.TwitterUserScraper(username)\n",
    "    user = user.entity\n",
    "    user_detail[\"full_name\"] = user.displayname\n",
    "    user_detail[\"username\"] = user.username\n",
    "    user_detail[\"profile_image\"] = user.profileImageUrl\n",
    "    user_detail[\"verified\"] = user.verified\n",
    "    user_detail[\"id\"] = user.id\n",
    "    user_detail[\"description\"] = user.description\n",
    "    user_detail[\"createdAt\"] = user.created\n",
    "    user_detail[\"followers\"] = user.followersCount\n",
    "    user_detail[\"following\"] = user.friendsCount\n",
    "    return user_detail\n",
    "\n",
    "c = 0\n",
    "for i, row in tqdm.tqdm(df.iterrows()):\n",
    "    try:\n",
    "        user = row['TwitterHandle'].replace(\"https://twitter.com/\", \"\")\n",
    "        user_detail = get_user_details(user)\n",
    "\n",
    "        query = \"\"\"insert into twitter(TwitterID, TwitterHandle, UserId, TwitterText,HashTags,CreatedAt,Likes, retweetCount,replyCount,Query) values ({0}, \"{1}\", {2}, \"{3}\", \"{4}\", \"{5}\" ,{6}, {7}, {8}, \"{9}\")\"\"\".format(int(row['TwitterID']), row['TwitterHandle'], user_detail['id'],row['TwitterText'].replace('\\t', '.'), row['HashTags'], row['CreatedAt'], row[\"likes\"], row[\"retweet\"], row[\"replies\"],row['Query'])\n",
    "        cursor.execute(query)\n",
    "        \n",
    "        hashtags = eval(row['HashTags'])\n",
    "        \n",
    "        for h in hashtags:\n",
    "            cursor.execute(\"\"\"insert into tweet_tags(TwitterID, HashTags) values({0}, \"{1}\")\"\"\".format(row['TwitterID'], h))\n",
    "        \n",
    "        query = \"\"\"insert into TwitterUser(userid, UserName, handle, Name,CreatedAt, Followers_Count,FRIENDS_Count, Account_Verified, Description, Profile_image_url) values ({0}, \"{1}\", \"{2}\", \"{3}\", \"{4}\", {5}, {6}, \"{7}\", \"{8}\", \"{9}\")\"\"\".format(int(user_detail['id']), user_detail['username'], row[\"TwitterHandle\"],user_detail['full_name'], user_detail['createdAt'], int(user_detail['followers']), int(user_detail['following']), user_detail[\"verified\"], user_detail[\"description\"], user_detail[\"profile_image\"])\n",
    "        cursor.execute(query)\n",
    "    except mysql.connector.errors.Error as e:\n",
    "        pass\n",
    "#         print (e)\n",
    "    except Exception:\n",
    "#         print (e)\n",
    "        c+=1\n",
    "\n",
    "print (c)\n",
    "conn.commit()\n"
   ]
  },
  {
   "cell_type": "code",
   "execution_count": 5,
   "id": "dda40a72",
   "metadata": {
    "scrolled": true
   },
   "outputs": [
    {
     "name": "stdout",
     "output_type": "stream",
     "text": [
      "0\n"
     ]
    }
   ],
   "source": [
    "# sheet_names = [\"Fall\",\"Spring\",\"StudentJob\", \"StudentOnCampus\",\"OnCampusEmployment\",\"OnCampusEmploymentStats\"]\n",
    "sheet_names = [\"OnCampusEmploymentStats\"]\n",
    "\n",
    "for sheet in sheet_names:\n",
    "    df = pd.read_excel(\"D:\\Darshana\\\\NEU\\Study\\DMDD\\Project\\MStudents\\Assignment3\\Mstudents.xlsx\", sheet_name= sheet)\n",
    "    c = 0\n",
    "    for i, row in df.iterrows():\n",
    "        try:\n",
    "            if sheet == \"Student\":\n",
    "                query = \"\"\"INSERT INTO Student (StudentID, FirstName, LastName, Gender, DeptId, FeePayment, CreditsEarned) VALUES({0}, \"{1}\", \"{2}\", \"{3}\", {4}, \"{5}\", {6});\"\"\".format(int(row['StudentID']), row['FirstName'], row['LastName'], row['Gender'], int(row['DeptID']), row['FeePayment'],int(row['CreditsEarned']))\n",
    "            \n",
    "            if sheet == \"Fall\":\n",
    "                query = \"\"\"INSERT INTO Fall (StudentID, IntakeYear,ID) VALUES({0}, {1}, {2})\"\"\".format(int(row['StudentID']),int(row['IntakeYear']),int(row['ID']))\n",
    "                \n",
    "            if sheet == \"Spring\":\n",
    "                \n",
    "                query = \"\"\"INSERT INTO Spring (StudentID, IntakeYear,ID) VALUES({0}, {1}, {2})\"\"\".format(int(row['StudentID']),int(row['IntakeYear']),int(row['ID']))\n",
    "                \n",
    "                \n",
    "            if sheet == \"College\":\n",
    "                query = \"\"\"INSERT INTO College (CollegeName, DeptName, DeptID, DeanName) VALUES(\"{0}\", \"{1}\", {2}, \"{3}\")\"\"\".format(row['CollegeName'], row['DeptName'], int(row['DeptID']),row['DeanName'])\n",
    "                \n",
    "            if sheet == \"EventDetails\":\n",
    "                query = \"\"\"INSERT INTO EventDetails(EID, EName, EventHeadID, Location, Purpose, Dateandtime, FareinUSD) VALUES({0},\"{1}\",{2},\"{3}\",\"{4}\",\"{5}\",\"{6}\")\"\"\".format(int(row['EID']), row['EName'], int(row['EventHeadID']), row['Location'],row['Purpose'],datetime.datetime.strptime(row['Dateandtime'].replace(\" EST\", \"\"), \"%a, %b %d, %Y %I:%M %p\"), row['FareinUSD'])\n",
    "            \n",
    "            if sheet == \"OnCampusEmployment\":\n",
    "                query = \"\"\"INSERT INTO OnCampusEmployment(ID, JobID, Employer, Location) VALUES({0},{1},\"{2}\",\"{3}\")\"\"\".format(int(['ID']), int(row['JobID']), row['Employer'], row['Location'])\n",
    "                \n",
    "            if sheet == \"OnCampusEmploymentStats\":\n",
    "                query = \"\"\"INSERT INTO OnCampusEmploymentStats(ID, JobID, SkillsRequired, SalaryInUSD, DurationInMonths, PostingDate, Deadline, Vacancy) VALUES({0},{1},\"{2}\",{3},{4},\"{5}\",\"{6}\",{7})\"\"\".format(int(row['ID']), int(row['JobID']), row['SkillsRequired'], int(row['SalaryInUSD']),int(row['DurationInMonths']), datetime.datetime.strptime(row['PostingDate'].replace(\" EST\", \"\"), \"%a, %b %d, %Y %I:%M %p\"), datetime.datetime.strptime(row['Deadline'].replace(\" EST\", \"\"), \"%a, %b %d, %Y %I:%M %p\"),int(row['Vacancy']))\n",
    "                \n",
    "            if sheet == \"StudentOnCampus\":\n",
    "                query = \"\"\"INSERT INTO StudentOnCampus(StudentID, JobID,ID) VALUES({0},{1},{2})\"\"\".format(int(row['StudentID']), int(row['JobID']),int(row['ID']))\n",
    "\n",
    "            if sheet == \"InternshipsAndCoop\":\n",
    "                salary = row[\"SalaryEstimate\"].replace(\"(Glassdoor est.)\", \"\").replace(\"K\", \"000\").replace(\"$\",\"\")\n",
    "                salary = salary.split(\"-\")\n",
    "#                 import ipdb; ipdb.set_trace()\n",
    "                lower_salary = salary[0]\n",
    "                upper_salary = salary[1]\n",
    "                rating = row['Rating']\n",
    "                company_name = row['CompanyName'].replace('\\n','').replace(str(rating),'')\n",
    "                job_description = row['JobDescription'][:900]\n",
    "                job_description = re.sub(r\"\\\"\",\"\\'\", job_description)\n",
    "                job_title = re.sub(r\"\\\"\",\"\\'\", row['JobTitle'])\n",
    "                query = \"\"\"INSERT INTO InternshipsAndCoop(JobID, JobTitle, SalaryEstimateLower, SalaryEstimateUpper, JobDescription, Rating, CompanyName, Location, HeadQuaters, Size, FoundedYear, TypeOfOwnership, Industry, Sector, Revenue, Competitor) VALUES({0}, \"{1}\",{2},{3},\"{4}\",{5},\"{6}\",\"{7}\",\"{8}\",\"{9}\",{10},\"{11}\",\"{12}\",\"{13}\",\"{14}\",\"{15}\")\"\"\".format(int(row['JobID']), job_title, int(lower_salary), int(upper_salary), job_description,float(row['Rating']), company_name,row['Location'], row['HeadQuarters'],row['Size'],int(row['Founded']),row['TypeOfOwnership'],row['Industry'],row['Sector'], row['Revenue'],row['Competitors']) \n",
    "                \n",
    "            if sheet == \"StudentClub\":\n",
    "                query = \"\"\"INSERT INTO StudentClub (ClubID, ClubName, StudentID, Contacts, Motive) VALUES({0},\"{1}\",{2},\"{3}\",\"{4}\")\"\"\".format(int(row['ClubID']), row['ClubName'], row['StudentID'], row['Contacts'], row['Motive'])\n",
    "                \n",
    "            if sheet == \"StudentJob\":\n",
    "                query = \"INSERT INTO StudentJob (StudentID, JobID, ID) VALUES({0}, {1},{2})\".format(int(row['StudentID']), int(row['JobID']),int(row['ID']))\n",
    "            cursor.execute(query)\n",
    "\n",
    "        except Exception as e:\n",
    "            print (e, sheet)\n",
    "#             print (query)\n",
    "#             break\n",
    "            c+=1\n",
    "    print (c)\n",
    "    conn.commit()"
   ]
  },
  {
   "cell_type": "code",
   "execution_count": null,
   "id": "a93b4350",
   "metadata": {},
   "outputs": [],
   "source": [
    "    #         query = \"\"\"insert into twitter(TwitterID, TwitterHandle, TwitterText,HashTags,CreatedAt,Query) values ({0}, \"{1}\", \"{2}\", \"{3}\", \"{4}\", \"{5}\")\"\"\".format(int(row['TwitterID']), row['TwitterHandle'], row['TwitterText'].replace('\\t', '.'), row['HashTags'], row['CreatedAt'], row['CreatedAt'])\n",
    "        #         print (int(row['JobId']), row['Employer'], row['Location'], row['SkillsRequired'],int(row['Salary']),int(row['Duration'].replace(\" Months\", \"\")), row['PostingDate'], row['Deadline'], int(row['Vacancy']))"
   ]
  },
  {
   "cell_type": "code",
   "execution_count": null,
   "id": "2b47266a",
   "metadata": {},
   "outputs": [],
   "source": []
  },
  {
   "cell_type": "code",
   "execution_count": null,
   "id": "c8b2223d",
   "metadata": {},
   "outputs": [],
   "source": []
  },
  {
   "cell_type": "code",
   "execution_count": null,
   "id": "3c4aa146",
   "metadata": {},
   "outputs": [],
   "source": []
  }
 ],
 "metadata": {
  "kernelspec": {
   "display_name": "Python 3 (ipykernel)",
   "language": "python",
   "name": "python3"
  },
  "language_info": {
   "codemirror_mode": {
    "name": "ipython",
    "version": 3
   },
   "file_extension": ".py",
   "mimetype": "text/x-python",
   "name": "python",
   "nbconvert_exporter": "python",
   "pygments_lexer": "ipython3",
   "version": "3.10.8"
  }
 },
 "nbformat": 4,
 "nbformat_minor": 5
}
